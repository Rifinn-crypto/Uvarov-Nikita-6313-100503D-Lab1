{
 "cells": [
  {
   "cell_type": "code",
   "execution_count": 13,
   "metadata": {},
   "outputs": [
    {
     "name": "stdout",
     "output_type": "stream",
     "text": [
      "Матрица 1:\n",
      " [[  4 100  98 ...  38  36  58]\n",
      " [ 16  18  66 ...   1  61  43]\n",
      " [ 17  23   7 ...  79  34  61]\n",
      " ...\n",
      " [  7  33  53 ...  18  14   9]\n",
      " [ 99  34  33 ...  14  24   3]\n",
      " [ 81   5  69 ...  81  73  11]]\n",
      "Матрица 2:\n",
      " [[16  4 50 ... 55 96 36]\n",
      " [38 75 40 ... 21  6 90]\n",
      " [37 38 41 ... 22 91 32]\n",
      " ...\n",
      " [61 47 34 ... 80 20 25]\n",
      " [35 54 66 ... 69 37  7]\n",
      " [98 89 71 ... 70 78 50]]\n"
     ]
    }
   ],
   "source": [
    "import numpy as np\n",
    "\n",
    "def read_matrix_from_file(file_path):\n",
    "    with open(file_path, 'r') as file:\n",
    "        lines = file.readlines()\n",
    "        rows, cols = map(int, lines[0].split())\n",
    "        matrix = np.array([list(map(int, line.split())) for line in lines[1:]])\n",
    "\n",
    "    return matrix\n",
    "\n",
    "# Чтение матриц из файлов\n",
    "matrix1 = read_matrix_from_file(r'C:\\\\Users\\\\esh20\\\\OneDrive\\\\Рабочий стол\\\\HTML+MATH\\\\Uvarov-Nikita-6313-100503D-Lab1\\\\ParallProg\\\\matrix1.txt')\n",
    "matrix2 = read_matrix_from_file(r'C:\\\\Users\\\\esh20\\\\OneDrive\\\\Рабочий стол\\\\HTML+MATH\\\\Uvarov-Nikita-6313-100503D-Lab1\\\\ParallProg\\\\matrix2.txt')\n",
    "\n",
    "print(\"Матрица 1:\\n\", matrix1)\n",
    "print(\"Матрица 2:\\n\", matrix2)\n",
    "\n",
    "def write_matrix_to_file(file_path, matrix):\n",
    "    with open(file_path, 'w') as file:\n",
    "        file.write(f\"{len(matrix)} {len(matrix[0])}\\n\")\n",
    "        for row in matrix:\n",
    "            file.write(' '.join(map(str, row)) + '\\n')\n",
    "\n",
    "\n",
    "# Умножение матриц\n",
    "result_matrix = np.matmul(matrix1, matrix2)\n",
    "\n",
    "# Запись результата в файл\n",
    "write_matrix_to_file('result_matrix.txt', result_matrix)\n",
    "\n",
    "print(\"Матрицы перемножены успешно, и результат записан в файл 'result_matrix.txt'.\")\n",
    "print(\"Result:\\n\", result_matrix)"
   ]
  }
 ],
 "metadata": {
  "kernelspec": {
   "display_name": "Python 3",
   "language": "python",
   "name": "python3"
  },
  "language_info": {
   "codemirror_mode": {
    "name": "ipython",
    "version": 3
   },
   "file_extension": ".py",
   "mimetype": "text/x-python",
   "name": "python",
   "nbconvert_exporter": "python",
   "pygments_lexer": "ipython3",
   "version": "3.11.3"
  }
 },
 "nbformat": 4,
 "nbformat_minor": 2
}
