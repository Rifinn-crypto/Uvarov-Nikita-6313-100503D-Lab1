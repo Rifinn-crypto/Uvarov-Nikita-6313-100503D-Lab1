{
 "cells": [
  {
   "cell_type": "code",
   "execution_count": 1,
   "metadata": {},
   "outputs": [
    {
     "name": "stdout",
     "output_type": "stream",
     "text": [
      "[[[  9  11  29]\n",
      "  [ 24  32  80]\n",
      "  [ 79  93 251]]]\n"
     ]
    }
   ],
   "source": [
    "import numpy as np\n",
    "\n",
    "A = np.array([[\n",
    "    [1, 2],\n",
    "    [4, 5],\n",
    "    [7, 18]]])\n",
    "\n",
    "B = np.array([[1, 3, 5],\n",
    "    [4, 4, 12]])\n",
    "C = A.dot(B)\n",
    "print(C)"
   ]
  }
 ],
 "metadata": {
  "kernelspec": {
   "display_name": "Python 3",
   "language": "python",
   "name": "python3"
  },
  "language_info": {
   "codemirror_mode": {
    "name": "ipython",
    "version": 3
   },
   "file_extension": ".py",
   "mimetype": "text/x-python",
   "name": "python",
   "nbconvert_exporter": "python",
   "pygments_lexer": "ipython3",
   "version": "3.11.3"
  }
 },
 "nbformat": 4,
 "nbformat_minor": 2
}
